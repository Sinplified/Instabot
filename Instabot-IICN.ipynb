{
 "cells": [
  {
   "cell_type": "code",
   "execution_count": 1,
   "metadata": {},
   "outputs": [],
   "source": [
    "from selenium import webdriver\n",
    "import time\n",
    "import matplotlib.pyplot as plt\n",
    "import pandas as pd\n",
    "import numpy as np\n",
    "from bs4 import BeautifulSoup"
   ]
  },
  {
   "cell_type": "code",
   "execution_count": 2,
   "metadata": {},
   "outputs": [],
   "source": [
    "# TO open the automated Chrome Browser\n",
    "driver = webdriver.Chrome(executable_path='chromedriver')"
   ]
  },
  {
   "cell_type": "markdown",
   "metadata": {},
   "source": [
    "# For all of the functions below please maximize the automated browser."
   ]
  },
  {
   "cell_type": "code",
   "execution_count": 3,
   "metadata": {},
   "outputs": [],
   "source": [
    "# Login\n",
    "driver.implicitly_wait(5)\n",
    "def Login(sample_username,sample_password):\n",
    "    driver.get('https://www.instagram.com/')\n",
    "    time.sleep(5)\n",
    "    a = driver.find_elements_by_tag_name('input')\n",
    "    a[0].send_keys(sample_username)\n",
    "    a[1].send_keys(sample_password)\n",
    "    driver.find_elements_by_tag_name('button')[1].click()\n",
    "    time.sleep(10)\n",
    "    driver.find_element_by_class_name('cmbtv').click() #To skip saving Login info\n",
    "    time.sleep(10)\n",
    "    driver.find_element_by_class_name('HoLwm').click() #To remove the \"Turn On Notifications\" pop up."
   ]
  },
  {
   "cell_type": "code",
   "execution_count": 6,
   "metadata": {},
   "outputs": [],
   "source": [
    "# Login('Sample_Username','Sample_Password')"
   ]
  },
  {
   "cell_type": "markdown",
   "metadata": {},
   "source": [
    "# After this I have assumed that we are logged in on Instagram"
   ]
  },
  {
   "cell_type": "markdown",
   "metadata": {},
   "source": [
    "# Q1"
   ]
  },
  {
   "cell_type": "code",
   "execution_count": 7,
   "metadata": {},
   "outputs": [],
   "source": [
    "def top_10():\n",
    "    driver.get('https://www.instagram.com')\n",
    "    fol = []\n",
    "    time.sleep(5)\n",
    "    for i in range(10):\n",
    "        driver.find_element_by_xpath('//input[contains(@class,\"x3qfX\")]').send_keys('food')\n",
    "        a = driver.find_elements_by_xpath('//a[@class=\"-qQT3\"]/div/div[2]')\n",
    "        a[i].click()\n",
    "        time.sleep(5)\n",
    "        name = driver.find_element_by_tag_name('h2').text\n",
    "        foll = driver.find_elements_by_class_name('g47SY ')[1].text\n",
    "        fol.append([name,foll])\n",
    "    return fol\n",
    "def count(num): #assuming the results only have followers in thousands or millions\n",
    "    d = num[:-1]\n",
    "    e = num[-1]\n",
    "    if e=='k':\n",
    "        return int(float(d)*1000)\n",
    "    elif e=='m':\n",
    "        return int(float(d)*(10**6))"
   ]
  },
  {
   "cell_type": "code",
   "execution_count": 8,
   "metadata": {},
   "outputs": [],
   "source": [
    "def search(handle):\n",
    "    driver.find_element_by_xpath('//input[contains(@class,\"x3qfX\")]').send_keys(handle)\n",
    "    time.sleep(3)\n",
    "    driver.find_element_by_class_name('-qQT3').click()"
   ]
  },
  {
   "cell_type": "code",
   "execution_count": 9,
   "metadata": {},
   "outputs": [],
   "source": [
    "# 1.1\n",
    "def top_5():\n",
    "    t_10 = top_10()\n",
    "    for i in t_10:\n",
    "        i[1] = count(i[1])\n",
    "    t_10.sort(key = lambda x:x[1])\n",
    "    print(t_10[-5:])\n",
    "    return(t_10[-5:])"
   ]
  },
  {
   "cell_type": "code",
   "execution_count": 10,
   "metadata": {},
   "outputs": [
    {
     "name": "stdout",
     "output_type": "stream",
     "text": [
      "[['thisisdelhi', 164000], ['streetfoodrecipe', 195000], ['foodtalkindia', 303000], ['yourfoodlab', 1500000], ['foodnetwork', 11000000]]\n"
     ]
    }
   ],
   "source": [
    "# 1.1\n",
    "t_5 = top_5()"
   ]
  },
  {
   "cell_type": "code",
   "execution_count": 11,
   "metadata": {},
   "outputs": [],
   "source": [
    "#1.2\n",
    "from selenium.webdriver.support.ui import WebDriverWait\n",
    "from selenium.webdriver.support import expected_conditions as EC\n",
    "from selenium.webdriver.common.by import By\n",
    "wait = WebDriverWait(driver,15)\n",
    "def prev_3():\n",
    "    a = t_5\n",
    "    driver.get('https://www.instagram.com/')\n",
    "    posts = []\n",
    "    for i in a:\n",
    "        n=0\n",
    "        search(i[0])\n",
    "        time.sleep(5)\n",
    "        driver.find_element_by_xpath('//div[contains(@class,\"v1Nh3 \")]').click()\n",
    "        while True:\n",
    "            time.sleep(3)\n",
    "            j = wait.until(EC.presence_of_element_located((By.TAG_NAME,'time')))\n",
    "            t = j.text\n",
    "            nxt = driver.find_element_by_link_text('Next')\n",
    "            svg = driver.find_element_by_xpath('//*[name()=\"svg\"][@aria-label=\"Close\"]')\n",
    "            if t[-1] =='h' or t[-1]=='m':\n",
    "                n+=1\n",
    "                nxt.click()\n",
    "            elif t[-1] =='d' and int(t[:-1])<=3:\n",
    "                n+=1\n",
    "                nxt.click()\n",
    "            else:\n",
    "                svg.click()\n",
    "                break\n",
    "        print(i[0],'posts :',n)\n",
    "        posts.append(n)\n",
    "    return posts"
   ]
  },
  {
   "cell_type": "code",
   "execution_count": 12,
   "metadata": {},
   "outputs": [
    {
     "name": "stdout",
     "output_type": "stream",
     "text": [
      "thisisdelhi posts : 8\n",
      "streetfoodrecipe posts : 1\n",
      "foodtalkindia posts : 3\n",
      "yourfoodlab posts : 2\n",
      "foodnetwork posts : 36\n"
     ]
    }
   ],
   "source": [
    "# 1.2.\n",
    "posts = prev_3()"
   ]
  },
  {
   "cell_type": "code",
   "execution_count": 13,
   "metadata": {},
   "outputs": [
    {
     "data": {
      "image/png": "[encoded data removed]",
      "text/plain": [
       "<Figure size 432x288 with 1 Axes>"
      ]
     },
     "metadata": {
      "needs_background": "light"
     },
     "output_type": "display_data"
    }
   ],
   "source": [
    "#1.3\n",
    "handles = [row[0] for row in t_5] #Will be used in next questions also\n",
    "followers = [row[1] for row in t_5]\n",
    "post = np.array(posts)*20\n",
    "c = np.arange(10,15)\n",
    "plt.scatter(handles,followers,s = post,c=c,edgecolor='b',label='No. of posts in last 3 days')\n",
    "plt.xticks(rotation=45)\n",
    "plt.legend()\n",
    "plt.title('Instagram handle vs Followers')\n",
    "plt.xlabel('Insta Handle')\n",
    "plt.ylabel('No. of Followers')\n",
    "plt.show()"
   ]
  },
  {
   "cell_type": "markdown",
   "metadata": {},
   "source": [
    "# Q2."
   ]
  },
  {
   "cell_type": "code",
   "execution_count": 14,
   "metadata": {},
   "outputs": [],
   "source": [
    "#2.1\n",
    "def content():\n",
    "    con = [] \n",
    "    for i in handles:\n",
    "        search(i)\n",
    "        driver.find_element_by_xpath('//div[contains(@class,\"v1Nh3 \")]').click()\n",
    "        for k in range(10):\n",
    "            a = driver.find_element_by_xpath('//div[@class=\"C4VMK\"]/span')\n",
    "            j = BeautifulSoup(a.text)\n",
    "            con.append(j.string)\n",
    "            driver.find_element_by_link_text('Next').click()\n",
    "            time.sleep(3)\n",
    "        time.sleep(5)\n",
    "        driver.find_element_by_xpath('//*[name()=\"svg\"][@aria-label=\"Close\"]').click()\n",
    "    return con"
   ]
  },
  {
   "cell_type": "code",
   "execution_count": 15,
   "metadata": {
    "scrolled": true
   },
   "outputs": [
    {
     "data": {
      "text/plain": [
       "['Koi mujhe bhi viral meme bana do please? 🙏🏽🥺😂\\nComment down the jingle if you know it!\\n.\\nSNAPCHAT:Pragyaaa18👻\\nFollow @thisisdelhi\\nFollow @thisisdelhi\\nFollow @thisisdelhi\\n#thisisdelhi #foodforlife #meme #viralw #tasty #yummyintummy #video #foodforlife #foodphotography #washingpowdernirma #streetfood #snacks #yum #spicy #satisfying #satisfyingvideos #mumbaifoodblogger #grub #mumbai #delhifoodblogger #f52grams #delhincr #breakfast #homemade #trending #trend #nirna #india #indian #indianfood',\n",
       " 'Tujhe dekha toh ye jaana sanam...\\nPyaar hota hai bas khana sanam..... ♥️💫\\n.\\nCAN YOU AGREE MORE?\\n.\\nAt @ambragk2\\nThe pizza’s are above and beyond id you were wondering.\\nSNAPCHAT:Pragyaaa18\\nFollow @thisisdelhi\\nFollow @thisisdelhi\\nFollow @thisisdelhi\\n#thisisdelhi #foodforlife #meme #funny #tasty #yummyintummy #video #foodforlife #foodphotography #likeforlike #streetfood #snacks #yum #spicy #satisfying #satisfyingvideos #mumbaifoodblogger #grub #mumbai #delhifoodblogger #f52grams #delhincr #breakfast #homemade #trending #viral #india #indian #indianfood',\n",
       " 'Ye humara 🍕 hai!\\nYe hum hai!\\nAur ye hamari dieting ki aisi ki tesi ho rahi hai😟💫\\U0001f972\\n.\\nTAG SOMEONE JO KABHI DIET FOLLOW NAHI KAR PATA!\\n.\\nSNAPCHAT:Pragyaaa18👻\\nPizza from: Marv’s pizza, indirapuram.\\n\\nFollow @thisisdelhi\\nFollow @thisisdelhi\\nFollow @thisisdelhi\\n#thisisdelhi #foodforlife #pizza #pawri #pawrihoraihai #yummyintummy #video #foodforlife #foodphotography #likeforlike #streetfood #snacks #yum #spicy #satisfying #satisfyingvideos #mumbaifoodblogger #grub #mumbai #delhifoodblogger #f52grams #delhincr #breakfast #homemade #biggestpizza #india #indian #indianfood',\n",
       " 'Swipe right to see what all i had for ₹100 in a day! 💵\\nI took the ₹100 challenge and tried to find the cheapest food in east delhi.\\nFor locations check out my YouTube video, link in bio.\\n.\\nSNAPCHAT:Pragyaaa18👻\\nFollow @thisisdelhi\\nFollow @thisisdelhi\\nFollow @thisisdelhi\\n#thisisdelhi #foodforlife #rs100\\n#challenge #challengeaccepted #tasty #yummyintummy #video #foodforlife #foodphotography #likeforlike #streetfood #snacks #yum #spicy #satisfying #satisfyingvideos #mumbaifoodblogger #grub #mumbai #delhifoodblogger #f52grams #delhincr #breakfast #homemade #youtube #india #indian #indianfood',\n",
       " 'Tag someone jisko cheese pull ki talash rehti hai 😌😍\\n.\\nRaving about these Crazy cheese pulls at paparizza, gtb nagar, delhi.\\n.\\nThey serve the biggest pizza slice that you can find in delhi and it’s awesome 🤩\\n.\\nSNAPCHAT:Pragyaaa18👻\\nFollow @thisisdelhi\\n#thisisdelhi #foodforlife #cheesepull #pizza #tasty #yummyintummy #video #foodforlife #foodphotography #likeforlike #streetfood #snacks #yum #spicy #satisfying #satisfyingvideos #mumbaifoodblogger #grub #mumbai #delhifoodblogger #f52grams #delhincr #breakfast #homemade #brownies #india #indian #indianfood',\n",
       " 'Swipe right ->\\nHappiness comes in waves, it’ll find you again.\\nSNAPCHAT:Pragyaaa18👻\\nFollow @thisisdelhi\\nFollow @thisisdelhi\\nFollow @thisisdelhi\\n#thisisdelhi #foodforlife #mithai #sweets #happiness #yummyintummy #video #foodforlife #foodphotography #likeforlike #streetfood #snacks #yum #spicy #satisfying #satisfyingvideos #mumbaifoodblogger #grub #mumbai #delhifoodblogger #f52grams #delhincr #breakfast #homemade #quotes #india #indian #indianfood',\n",
       " 'Nani ki recipe 💫♥️ *ghiya ki barfi*\\n\\nThis is one of those recipes that’s really easy to create and everyone will love.\\nIt’s a foolproof recipe and you must try it before winters end.\\nApproved by: @thatclumsychick',\n",
       " 'Loving my caramel crunch coffee and strawberry shake from shake sahab. 😍\\nSNAPCHAT:Pragyaaa18👻\\nFollow @thisisdelhi\\nFollow @thisisdelhi\\nFollow @thisisdelhi\\n#thisisdelhi #foodforlife #coffee #sweets #tasty #yummyintummy #video #foodforlife #foodphotography #likeforlike #streetfood #snacks #yum #spicy #satisfying #satisfyingvideos #mumbaifoodblogger #grub #mumbai #delhifoodblogger #f52grams #delhincr #breakfast #homemade #dessert #india #indian #indianfood',\n",
       " 'Don’t ever steal my food 👊🏽\\nPlease? \\U0001f972\\n.\\nSNAPCHAT:Pragyaaa18👻\\nFollow @thisisdelhi\\nFollow @thisisdelhi\\nFollow @thisisdelhi\\n#thisisdelhi #foodforlife #steal #food #tasty #yummyintummy #video #foodforlife #foodphotography #likeforlike #streetfood #snacks #yum #spicy #satisfying #satisfyingvideos #mumbaifoodblogger #grub #mumbai #delhifoodblogger #f52grams #delhincr #breakfast #homemade #dessert #india #indian #indianfood',\n",
       " 'i’m into fitness — fitness whole pizza in my mouth\\n.\\npizzas are life, comment if you agree!\\n.\\nSNAPCHAT:Pragyaaa18👻\\nFollow @thisisdelhi\\nFollow @thisisdelhi\\nFollow @thisisdelhi\\nFrom: @_bake_n_shake_\\n#thisisdelhi #foodforlife #pizza #sweets #tasty #yummyintummy #video #foodforlife #foodphotography #likeforlike #streetfood #snacks #yum #spicy #satisfying #satisfyingvideos #mumbaifoodblogger #grub #mumbai #delhifoodblogger #f52grams #delhincr #breakfast #homemade #dessert #india #indian #indianfood',\n",
       " 'Famous Rajnikanth Style Dosa of Mumbai at Hindmata, Dadar\\n\\nDosa served like a boss!\\n#indianstreetfood #streetfood #dosa #mumbaifoodie #mumbaifoodblogger #indianfoodie #desifood #mumbaifood',\n",
       " 'Pav Bhaji is the heart and soul of every Mumbaikar ❤️\\n\\nUtterly Butterly delicious Sardar ki Pav Bhaji, Tardeo, Mumbai\\n\\n#streetfood #mumbaifoodie #mumbaistreetfood #pavbhaji #indianstreetfood #INDIANfoodbloggers #mumbaifoodlovers #mumbaifoodblogger #desifood',\n",
       " 'Super Cheesy Jini Dosa at Anand Stall, Mumbai\\n\\n#streetfood #dosa #southindianfood #masaladosa #foodtalkindia #desifood #cheeselover #indianfoodbloggers #mumbaifoodlovers #desikhana',\n",
       " 'Egg Paniyaram at Aunty Dosa, opp. Star Bazar, Andheri (w), Mumbai\\n\\n#streetfood #mumbaifoodlovers #indianstreetfood #southindianfood #paniyaram #egglover #eggilicious #desifood #mumbaifood #mumbaifoodblogger #foodofmumbai #indianfoodbloggers',\n",
       " 'Sigdi wala Desi Pasta at WTC Pasta, Khaugalli, Ghatkopar\\n\\nCreamy, Cheesy and yummy 😋\\n\\n#streetfood #pasta #cheeselover #yummy #mumbaifood #foodofmumbai #mumbaifoodblogger #indianfoodblogger #desifood',\n",
       " 'Delicious Super Cheesy Masala Cheese Kulcha!\\n\\nWhere : Delhi Ke Mashoor Chole kulche,\\nBackside of Vadodara Central Mall, Alkapuri, Vadodara\\n\\n#streetfood #indianstreetfood #chole #kulcha #desikhana #desikhana #indianfoodie #indianfoodblogger #delhifood #delhistreetfood #vadodarafoodies',\n",
       " 'Aloo Cheese Stuffed Buns Recipe without Microwave!\\n\\n#streetfood #buns #cheeselover #indianfoodblogger #indianrecipes #desikhana #desifood #foodtalkindia #mumbaifoodblogger #delhifoodblogger',\n",
       " 'Instant Chakli / Murukku Recipe\\n\\n#streetfood #chakli #desifood #desikhana #indianrecipes #vegetarianfood #murukku #indiancooking #indianfoodie',\n",
       " 'Mountain of Cheese 😆 Craving this cheese loaded Frankie from Dolphin Frankie, Ghatkopar\\n\\n#streetfood #cheeselover #mumbaifoodie #mumbaistreetfood #indianstreetfood #INDIANfoodbloggers #delhifoodie #desifood #mumbaifoodblogger #munchymumbai',\n",
       " 'This is so Yummmm!\\nPaneer Tikka Open Toast at Bliss Veg Resto, Mulund(W), Mumbai\\n\\n#streetfood #indianfood #foodofmumbai #mumbaifood #indianfoodbloggers #mumbaifoodblogger #mumbaifoodie #foodloversmumbai #mumbaifoodlovers #foodtalkindia #thingstodoinmumbai #thingstoeatinmumbai #things2doinmumbai #mumbaifoodicious #mumbaiblogger #thanefoodie #desifood #tasteofindia #goodfoodindia #indianfoodie #delhifoodblogger #delhifood',\n",
       " 'Epic vada pav at Ashok, Kirti college Mumbai',\n",
       " '#NewInTown\\n\\nDelhi’s legendary @karimsbandrawest has opened shop in Mumbai! From mouthwatering, melt-in-mouth kebabs, alu gosht, and delicious Mughlai delicacies Karims is the ultimate scrumptious fare you can’t miss out on. Just head to Bandra and devour the food, it’s surely a non-vegetarians heaven! \\nHere are some of the must-try dishes: \\n\\n1. Mutton Burra: Succulent pieces of mutton cooked in an oven\\n2. Mutton Raan: This starter is huge, and is meant for four or five people.\\n3. Kebabs: You have a wide range to choose from, from the Seekh Kebabs, to Shammi Kebabs and Mutton Tikkas.\\n4.  For the main course, the Mutton Korma, Chicken Noor Jehan and Chicken Jahangiri with Khamiri Roti or with roomali rotis, butter nans or paranthas!\\n5. End the meal with the Kheer Benazir and Shahi Tukda! \\nWhere: Ground floor, 35th street, Linking Road, Bandra West, Mumbai',\n",
       " 'Imagine sipping on a Cosmopolitan on a day you’ve chosen to keep your distance from drinking. Now you can- indulge in a ‘CosNOpolitan’ with @seedlipdrinks!\\n\\nSip away to glory on the flavours of a delicious Cosmopolitan, without cheating on your vow to say no to alcohol.\\n\\nTry it for yourself- all you need is:\\n• 50ml Seedlip Grove 42\\n• 30ml Cranberry juice\\n• 15ml Lime juice\\n• 10ml Sugar\\nShake three times w/ ice in a cocktail shaker & fine strain into a chilled coupe glass. Garnish with a lime leaf.\\n\\nWould you try this?',\n",
       " 'GIVEAWAY ALERT!\\nButter makes everything better- don’t you agree? For all you butter lovers, we have the perfect flavour filled gourmet butters from @bunmaskaofficial to add just the goodness your comfort food needs!\\n\\n5 lucky winners get to bring home an exciting Bun Maska hamper!\\n\\nAll you have to do is:\\n• Follow @bunmaskaofficial\\n• Tell us the 3 Bun Maska butter variants you’d like to try\\n• Tag 2 of your fellow ‘butter lovers’\\n\\nBun Maska is here with a first of its kind gourmet butter range to add flavours to that buttery goodness we all relish! With 4 exciting flavours, the simple pleasure of ‘bread and butter’ just got better!\\n\\nP.S. Contest closes on 21st February.',\n",
       " 'Here are some of the best places to gorge on yumm Biryani in Delhi! \\n.\\nYou might not find the same plethora of raw, authentic options as a Hyderabad or Kolkata, but the city does many a bang-up version of this flavourful, meat-rife pilau: \\n\\n1. @behrouzbiryani : If you’re the sort that likes a hearty kebab or haleem to accompany your biryani, this is your Mecca. The Gosht Haleem and Shahi Shammi Kebab are both yummm!\\n2. @biryaniblues : They do Hyderabadi biryani specifically, which brings together Arabic, Turkish, and Mughlai flavours with Andhra and Marathwada spices! With outlets across Delhi NCR, Biryani Blues is a good place to try if its variety you’re after. \\n3. @biryanibykilo : As the name indicates, mammoth portions are to be expected from this delivery-only kitchen. Whether you get an arm-breaking handful of their classic Hyderabdi Dum, their decadent Lucknowi style or their aloo-rife Kolkata style biryani, you’re in for an absolute treat. \\n4. Delhi 6 - Royal Cuisine Of The Walled City: They deliver the typical biryani from Purani Dilli, which requires one to place the order a day in advance. Their mutton and chicken dum biryani are total sellouts! \\n5. Andhra Bhavan Canteen: In addition to their usual thali menu and curries they do a stellar Hyderabadi Chicken Dum Biryani on Sundays, which you just cannot miss out on!\\n📸: @biryaniblues',\n",
       " '#NewInTown @beyonddesignsbistro is an exquisite French-style bistro, housed inside an opulent home decor store situated on the busy MG Road, Sultanpur, New Delhi.\\n.\\nThe place offers a one-of-its kind experience of shopping-cum-dining in a charming French bistro environment where you can happily buy exclusive handcrafted accessories from around the world, as well as carefully crafted modern European cuisine. It is where art, design, aesthetics and gourmet meet in a refined blend!\\n.\\nThe menu is woven around healthy and mindful eating. They have an all-day breakfast offering that include some delicious dishes like the Sumac-flavoured Foxtail millet breakfast, winter berries and Ricotta on Sourdough Bread, and Asparagus, Spinach and Artichoke Quiche. Some of the must-try dishes here are:\\n\\n1. Pink Peppercorn Curried Roasted pumpkin soup with the multi-grain Orzo Salad\\n2. Pilaf with beetroot hash\\n3. The club classic, Fish & chips!\\n4. Pork Scallion\\n5. Vietnamese-style yellow curry with Pad Thai\\n\\nAddress: Flagship Store: Khasra No. 432, 433, 434, Ground Floor Pillar, 89, M G Rd, opposite Metro Station, Sultanpur, New Delhi',\n",
       " 'HAPPY PANCAKE DAY! 🥞🍯\\n.\\nLight, fluffy pancakes are the perfect vehicle for a pool of melting butter and drizzle of maple syrup and we’ve got the ultimate pancake recipe for you to try:\\n.\\nIngredients for 8 pancakes\\n1. 2 ½ cups all-purpose flour(310 g)\\n2. 3 tablespoons sugar\\n3. 2 teaspoons kosher salt\\n4. 1 teaspoon baking powder\\n5. 1 teaspoon baking soda\\n6. 2 ½ cups buttermilk(600 mL)\\n7. 8 tablespoons unsalted butter, 1 stick, melted\\n8. 2 eggs, whites and yolks seperated\\n9. 1 tablespoon unsalted butter, plus more for serving\\n10. blueberry, optional\\n11. chocolate chip, optional\\n12. maple syrup, for serving\\n.\\nPreparation\\n* In a large bowl, add the flour, sugar, salt, baking powder, and baking soda and whisk to combine.\\n* In a medium bowl or liquid measuring cup, add the buttermilk, melted butter, and egg yolks and whisk to combine.\\n* Add the buttermilk mixture to the dry ingredients and gently fold with a rubber spatula until just combined.\\n* Add the egg whites and fold until just combined. Be sure not to overmix. Some lumps are okay.\\n* Let the batter rest for 15-30 minutes at room temperature.\\n* Add the butter to a cast iron skillet and heat over medium low heat. Once the butter has melted and is bubbling, reduce the heat to medium-low and add ⅓ cup (75 g) of batter to the pan.\\n* Cook for 2-3 minutes, until bubbles start to appear on the surface. If adding any toppings like chocolate chips or blueberries, sprinkle over the pancake. Flip the pancake over and cook for another 1-2 minutes, until golden brown. Repeat with the remaining batter.\\n* Serve the pancakes with butter and maple syrup.\\n\\nRecipe credits: @buzzfeedtasty\\n📸: @pinterestindia',\n",
       " '#NewInTown @94bombay , an amalgamation of the best of Sri Lankan and Maharashtrian dishes, sets you on a voyage of exciting regional flavours along with a one of a kind cocktail and juice bar. The space is designed to resemble a tropical forest with plenty of indoor plants and colourful accessories! \\n.\\nYou can totally observe the chef’s journey from the by-lanes of Mumbai and his love for Colombo in dishes like Samrat vadapav, Mumbai pav bhaaji and Mohammed Ali Road lamb seekh kabab!\\n\\nHere are some must-try dishes: \\n\\n1. The Jaffna goat curry with a fluffy Sri Lankan egg hopper.\\n2. Kappa crab cutlet\\n3. The black pepper prawns\\n4. Kothimbir wadi pan-fried dumplings\\n5. Konkan prawn bisque\\nFrom the kokum sour, a gin-based cocktail with a tart hint of kokum, to the golden smile, a blend of gin, tonic, pineapple and peach juices, the drinks menu is also a reflection of this unlikely coupling of cuisines!\\n.\\nAddress: Level 1, Palladium Mall, Senapati Bapat Marg, Lower Parel, Mumbai, India.',\n",
       " 'This Valentines indulge in a sweet and sensorial love affair that is undeniably  Baileys!\\n\\nLooking for an indulgent Valentine/Galentine celebration? @saltwatercafe ‘s got you covered, The Baileys Dessert Festival is here! They’re serving a dark chocolate pie with Baileys ice cream and strawberry compote, that is just the right indulgence you need on Valentine’s, paired with the Baileys chocolate chip milkshake. \\n.\\nHead over to @saltwatercafe and treat yourself to some irresistibly fun swirls and drizzles of Baileys now!\\n\\nLocation: Rose Minar, 87 Annel Church, Chapel Rd, Reclamation, Bandra West, Mumbai\\n\\n#Baileys #ValentinesDay #BaileysIndia #Dontmindifibaileys \\n#Deliciouslybaileys #Dessert #Baileyscocktails #Baileystreat #Socialgoatindia',\n",
       " 'Valentine’s Day is better with a drizzle of  Baileys! And the Baileys Dessert Festival is popping up at @arbour28mumbai with a specially curated menu! Are you looking for an indulgent Valentine/Galentine celebration? \\n\\nLook no further and head over to @arbour28mumbai and treat yourself to some irresistibly fun adult indulgence with Baileys. Indulge in the Panna Cotta made with Baileys and drizzled with cookie and hazelnut ashes served with chocolate ganache along with a Baileys latte, this is as good as it gets! \\n\\nLocation:  B-37, Ground Floor, Ambica Acropolis, Veera Desai Industrial Estate Rd, Andheri West, Mumbai\\n\\n#Baileys #ValentinesDay #BaileysIndia #Dontmindifibaileys \\n#Deliciouslybaileys #Dessert #Baileyscocktails #Baileystreat #Socialgoatindia',\n",
       " \"Chole Pattice Recipe is out now on YouTube and Facebook ! Check it out now!\\n\\nYou must have tried several variety of chole pattice but, this sindhi chole pattice is little different.\\nHaving those crispy potato pattice with a falvoured chana dal filling topped with a different flavour of chole and the chutney just makes this dish tast super tasty.\\nDo try them at your home and let me know you're experience in the comment section below. Cheers!\\n.\\n.\\n.\\n#pattice #food #chole #chutney #foodporn #streetfood #indiancuisine #foodie #mumbai #mumbaifood #mumbaistreetfood #mumbaifood #sanjyotkeer\",\n",
       " 'Soya Chaap Tikka Dum Biryani Recipe | Chef @sanjyotkeer\\n\\nHere’s one of the most awaited and most requested recipes, this biryani variation is a bliss for vegetarians. I used the Daawat Biryani Basmati rice to prep my biryani and the results were amazing. Do try the recipe and let me know how did it turn out! Cheers!',\n",
       " 'Burnt Chilli Garlic Noodles by Chef @sanjyotkeer\\n\\nWhat’s up guys! Here’s one of my favorite noodles recipes, spicy, tangy and the best part, you do not require to prep a separate sauce to serve along with it. The noodles can be had by them selves.\\nThis is the base sauce for a lot of appetizers too like but it chilli garlic chicken/paneer and you could try prepping those too.\\nLet me know in the comments after trying the recipe.\\nCheers!\\n.\\n.\\n.\\n#noodles🍜 #noodleslover #spicyfood #spicy #spicynoodles #vegrecipes #vegetarianrecipes #veg\\n#foodstagram #foodlover #noodlelover #foodporn',\n",
       " 'Burnt Chilli Garlic Noodles\\nRecipe is out now on YouTube and Facebook ! Check it out now!\\n.\\n.\\nWhat’s up guys! Here’s one of my favorite noodles recipes, spicy, tangy and the best part, you do not require to prep a separate sauce to serve along with it. The noodles can be had by them selves.\\nThis is the base sauce for a lot of appetizers too like but it chilli garlic chicken/paneer and you could try prepping those too.\\nLet me know in the comments after trying the recipe.\\nCheers!\\n.\\n.\\n.\\n#noodles🍜 #noodleslover #spicyfood #spicy #spicynoodles #vegrecipes #vegetarianrecipes #veg\\n#foodstagram #foodlover #noodlelover #foodporn',\n",
       " 'Cheesy Peri Peri Toast Sandwich by Chef @sanjyotkeer\\n\\n.\\n.\\n.\\nWhat’s up guys! Another street style recipe and this one hits all the right notes. It’s buttery, cheesy, spicy at the same time and is so easy to prep. I had recently made a cheese chilly toast video which you guys guys loved, this one is another variation which I know you are going to love. I have served it in two ways, I had seen a few street sandwich vendors in Mumbai serving sandwiches as open toasts and I loved the idea, so I just gave it a try. You can choose to serve it the way you like and do prep the home made peri peri masala in a larger quantity to be used over fries, dosa, rolls and a lot more.\\nDo try the recipe and let me know how did you like it.\\nCheers!\\n.\\n.\\n.\\n.\\n#recipes #food #foodporn #indiancuisine #streetfood #sandwich #foodie #mumbaistreetfood #mumbaidiaries #streetfood',\n",
       " 'Cheesy Peri Peri Toast Sandwich Recipe is out now on YouTube and Facebook ! Check it out now!\\n\\nWhat’s up guys! Another street style recipe and this one hits all the right notes. It’s buttery, cheesy, spicy at the same time and is so easy to prep. I had recently made a cheese chilly toast video which you guys guys loved, this one is another variation which I know you are going to love. I have served it in two ways, I had seen a few street sandwich vendors in Mumbai serving sandwiches as open toasts and I loved the idea, so I just gave it a try. You can choose to serve it the way you like and do prep the home made peri peri masala in a larger quantity to be used over fries, dosa, rolls and a lot more.\\nDo try the recipe and let me know how did you like it.\\nCheers!',\n",
       " 'Crispy Veg Recipe by Chef @sanjyotkeer\\n\\n.\\n.\\nWhat’s up guys! Here’s another restaurant style recipe for you. This is one of the most ordered indo Chinese recipes in restaurants and it is so easy to prep.\\nYou can use or opt out veggies as per your preference and you could also toss these in another sauce, like a chilli sauce.\\nYou could also make a hot dog, burger or a sandwich out of it or even a roll. Food is all about innovation and I am sure you would love this recipe.\\nCheers!\\n.\\n.\\n#recipe #foodie #crispy #veg #foodporn #indiancuisine #streetfood #food #veglover',\n",
       " 'Veg Lasagna Recipe by Chef @sanjyotkeer #LoveMadeEdible #MorphyRichards\\n\\n.\\n\\nI gave @payal_kapoor a Valentine’s Day surprise. Check out the video to see what my surprise was and what was her reaction.\\n\\nP.S. I love to cook for my wife & it was so much fun to plan this surprise for her. Happy Valentine’s Day! ❤️\\n\\n@morphyrichardsindia',\n",
       " 'Crispy Veg Recipe is out now on YouTube and Facebook ! Check it out now!\\n.\\n.\\n\\nWhat’s up guys! Here’s another restaurant style recipe for you. This is one of the most ordered indo Chinese recipes in restaurants and it is so easy to prep.\\nYou can use or opt out veggies as per your preference and you could also toss these in another sauce, like a chilli sauce.\\nYou could also make a hot dog, burger or a sandwich out of it or even a roll. Food is all about innovation and I am sure you would love this recipe.\\nCheers!\\n.\\n.\\n\\n#recipe #foodie #crispy #veg #foodporn #indiancuisine #streetfood #food #veglover',\n",
       " 'Mumbai style Bhel puri recipe by Chef @sanjyotkeer\\n\\n.\\n.\\n.\\nWhat’s up guys! You know my love for street food and whenever it’s street food time on YFL, I am super excited and love to recreate these experiences for you. So here is the most awaited Mumbai style Bhel puri video first time on YFL IN 5 years. I have prepped all chutneys and everything you would want to know the perfect Mumbai style Bhel at home!\\nDo try the recipe and let me know how did you like it.\\nCheers!\\n.\\n.\\n.\\n#recipe #chaat #mumbaichaat #mumbaifoodie #mumbaifood #streetfoodindia #streetfood #mumbaistreetfood #indiancuisine #streetfoodindia #indianfood #chaaatrecipe #foodporn',\n",
       " \"Low Country Spatchcocked Chicken (with @kardeabrown)\\n\\nEver made a spatchcocked chicken before? Now's the time. Every part of Kardea's chicken turns out so crispy and juicy! 🍗\\n\\nWatch #DeliciousMissBrown > Saturdays at 12|11c and subscribe to @discoveryplus to stream more of the series: http://discoverypl.us/2WTJXI2. #discoveryplus\\n\\nSave the recipe: http://foodtv.com/3djZyKr (Head to our IGTV for the clickable links!)\",\n",
       " \"How to Make @thepioneerwoman's Cookie Salad 🍪🍪\\n\\nCan we eat salads like this every day?! 😂😂\\n\\nWatch @thepioneerwoman > Saturdays at 10a|9c and subscribe to @discoveryplus to stream more episodes of the show: http://discoverypl.us/2WTJXI2. #discoveryplus\\n\\nGet the recipe for Cookie Salad: http://foodtv.com/3qzt0zF (Head to our IGTV to get the clickable links!)\",\n",
       " \"5⭐ One-Pan Salmon Dinner\\n\\n@giadadelaurentiis' top-rated salmon dinner can be made in only one 👏 pan 👏 in just 25 minutes!\\n\\nSubscribe to @discoveryplus to stream more #GiadaAtHome: http://discoverypl.us/2WTJXI2. #discoveryplus\\n\\nGet the recipe: http://foodtv.com/2M116Oa (Head to our IGTV for the clickable links!)\",\n",
       " \"We're straight up HYPNOTIZED by that swirl 😮🌀\\n. . .\\nThese churro spirals make us drooooool, @mecookmeeatnow + @donchurrosgomez! 🤤\",\n",
       " \"We CAN'T look away from hamantaschen being filled and folded! 🤩(Also, how cool is that dough cutter at the beginning?!)\\n\\nYou can order them from @breadsbakery in NYC nationwide!\",\n",
       " 'Recipe of the Day: Vegan Lentil Chili 😋 Click the link in our bio to get the recipe!',\n",
       " 'This-or-That: #SpringBakingChampionship Edition\\n\\nFondant or frosting? Find out if #SpringBakingChampionship host @alikhaneats and judges @duffgoldman, @kardeabrown and @fullerfarmer agree with your answer before a new season kicks off TONIGHT at 9|8c!\\n\\nSubscribe to @discoveryplus to stream the series and so much more: http://discoverypl.us/2WTJXI2 #discoveryplus',\n",
       " \"@superchef_23 vs. @chefmarcmurphy on #TournamentOfChampions 🔥🔪\\n\\nLast year @superchef_23 made history with a shocking upset against one of the GOAT chefs. This year, he's trying to prove that wasn't just a fluke as he's back to take on @chefmarcmurphy in a groundbreaking battle 👏👏👏\\n\\n🔥🔥 A new season of @guyfieri's #TournamentOfChampions premieres Sunday, March 7 @ 8|7c and will be available to stream the same day on @discoveryplus 🔥🔥\\n\\nSubscribe to #discoveryplus to stream our entire library and so much more: http://discoverypl.us/2WTJXI2. (Head to our IGTV to get a clickable link!)\",\n",
       " \"How to Make Brussels Sprouts That Are IMPOSSIBLE to Hate🙌\\n\\nThe honest truth: If you HATE Brussels sprouts, you're probs cooking them wrong! 🤷\\u200d♀️ @missvivianwc gives tips on how to make crispy, caramelized sprouts every time 💥#VivsTips\\n\\nBrowse our best Brussels sprouts recipes: https://foodtv.com/37qQmjn (Head to our IGTV for a clickable link!)\",\n",
       " \"Halva Magic Bars\\n\\n@mollyyeh says these chewy halva bars are literally MAGIC because they're all made in the same pan!\\n\\nWatch #GirlMeetsFarm > Sundays at 11a|10c and subscribe to @discoveryplus to stream more: http://discoverypl.us/2WTJXI2.\\n\\nSave the recipe: http://foodtv.com/3ar4mLZ (Head to our IGTV for the clickable link!)\"]"
      ]
     },
     "execution_count": 15,
     "metadata": {},
     "output_type": "execute_result"
    }
   ],
   "source": [
    "#2.1\n",
    "con = content()\n",
    "con"
   ]
  },
  {
   "cell_type": "code",
   "execution_count": 16,
   "metadata": {},
   "outputs": [],
   "source": [
    "def cleanser(arr):\n",
    "    w = []\n",
    "    for i in arr:\n",
    "        word = i.strip(',')\n",
    "        word = word.strip('.')\n",
    "        if word !='':\n",
    "            w.append(word)\n",
    "    return w"
   ]
  },
  {
   "cell_type": "code",
   "execution_count": 17,
   "metadata": {},
   "outputs": [],
   "source": [
    "# 2.2\n",
    "def li_word():\n",
    "    words=[]\n",
    "    for i in con:\n",
    "        words = words + i.split()\n",
    "    words = cleanser(words)\n",
    "    words = np.array(words)\n",
    "    words= np.unique(words,return_counts=True)\n",
    "    return words"
   ]
  },
  {
   "cell_type": "code",
   "execution_count": 18,
   "metadata": {},
   "outputs": [
    {
     "data": {
      "text/plain": [
       "(array(['!', '#Baileys', '#BaileysIndia', ..., '🤷\\u200d♀️', '🥞🍯',\n",
       "        '\\U0001f972'], dtype='<U29'),\n",
       " array([4, 2, 2, ..., 1, 1, 1], dtype=int64))"
      ]
     },
     "execution_count": 18,
     "metadata": {},
     "output_type": "execute_result"
    }
   ],
   "source": [
    "# 2.2\n",
    "w = li_word() #Now we have a 2d numpy array with words and their frequency of occurence\n",
    "w"
   ]
  },
  {
   "cell_type": "code",
   "execution_count": 19,
   "metadata": {},
   "outputs": [
    {
     "data": {
      "text/html": [
       "<div>\n",
       "<style scoped>\n",
       "    .dataframe tbody tr th:only-of-type {\n",
       "        vertical-align: middle;\n",
       "    }\n",
       "\n",
       "    .dataframe tbody tr th {\n",
       "        vertical-align: top;\n",
       "    }\n",
       "\n",
       "    .dataframe thead th {\n",
       "        text-align: right;\n",
       "    }\n",
       "</style>\n",
       "<table border=\"1\" class=\"dataframe\">\n",
       "  <thead>\n",
       "    <tr style=\"text-align: right;\">\n",
       "      <th></th>\n",
       "      <th>Word</th>\n",
       "      <th>Frequency</th>\n",
       "    </tr>\n",
       "  </thead>\n",
       "  <tbody>\n",
       "    <tr>\n",
       "      <th>0</th>\n",
       "      <td>!</td>\n",
       "      <td>4</td>\n",
       "    </tr>\n",
       "    <tr>\n",
       "      <th>1</th>\n",
       "      <td>#Baileys</td>\n",
       "      <td>2</td>\n",
       "    </tr>\n",
       "    <tr>\n",
       "      <th>2</th>\n",
       "      <td>#BaileysIndia</td>\n",
       "      <td>2</td>\n",
       "    </tr>\n",
       "    <tr>\n",
       "      <th>3</th>\n",
       "      <td>#Baileyscocktails</td>\n",
       "      <td>2</td>\n",
       "    </tr>\n",
       "    <tr>\n",
       "      <th>4</th>\n",
       "      <td>#Baileystreat</td>\n",
       "      <td>2</td>\n",
       "    </tr>\n",
       "    <tr>\n",
       "      <th>...</th>\n",
       "      <td>...</td>\n",
       "      <td>...</td>\n",
       "    </tr>\n",
       "    <tr>\n",
       "      <th>1474</th>\n",
       "      <td>🤩</td>\n",
       "      <td>1</td>\n",
       "    </tr>\n",
       "    <tr>\n",
       "      <th>1475</th>\n",
       "      <td>🤩(Also</td>\n",
       "      <td>1</td>\n",
       "    </tr>\n",
       "    <tr>\n",
       "      <th>1476</th>\n",
       "      <td>🤷‍♀️</td>\n",
       "      <td>1</td>\n",
       "    </tr>\n",
       "    <tr>\n",
       "      <th>1477</th>\n",
       "      <td>🥞🍯</td>\n",
       "      <td>1</td>\n",
       "    </tr>\n",
       "    <tr>\n",
       "      <th>1478</th>\n",
       "      <td>🥲</td>\n",
       "      <td>1</td>\n",
       "    </tr>\n",
       "  </tbody>\n",
       "</table>\n",
       "<p>1479 rows × 2 columns</p>\n",
       "</div>"
      ],
      "text/plain": [
       "                   Word  Frequency\n",
       "0                     !          4\n",
       "1              #Baileys          2\n",
       "2         #BaileysIndia          2\n",
       "3     #Baileyscocktails          2\n",
       "4         #Baileystreat          2\n",
       "...                 ...        ...\n",
       "1474                  🤩          1\n",
       "1475             🤩(Also          1\n",
       "1476               🤷‍♀️          1\n",
       "1477                 🥞🍯          1\n",
       "1478                  🥲          1\n",
       "\n",
       "[1479 rows x 2 columns]"
      ]
     },
     "execution_count": 19,
     "metadata": {},
     "output_type": "execute_result"
    }
   ],
   "source": [
    "# 2.3\n",
    "data  = {'Word':w[0],'Frequency':w[1]}\n",
    "df = pd.DataFrame(data)\n",
    "df.to_csv('Words.csv',index=False)\n",
    "df"
   ]
  },
  {
   "cell_type": "code",
   "execution_count": 20,
   "metadata": {},
   "outputs": [
    {
     "data": {
      "text/html": [
       "<div>\n",
       "<style scoped>\n",
       "    .dataframe tbody tr th:only-of-type {\n",
       "        vertical-align: middle;\n",
       "    }\n",
       "\n",
       "    .dataframe tbody tr th {\n",
       "        vertical-align: top;\n",
       "    }\n",
       "\n",
       "    .dataframe thead th {\n",
       "        text-align: right;\n",
       "    }\n",
       "</style>\n",
       "<table border=\"1\" class=\"dataframe\">\n",
       "  <thead>\n",
       "    <tr style=\"text-align: right;\">\n",
       "      <th></th>\n",
       "      <th>Word</th>\n",
       "      <th>Frequency</th>\n",
       "    </tr>\n",
       "  </thead>\n",
       "  <tbody>\n",
       "    <tr>\n",
       "      <th>114</th>\n",
       "      <td>#streetfood</td>\n",
       "      <td>25</td>\n",
       "    </tr>\n",
       "    <tr>\n",
       "      <th>48</th>\n",
       "      <td>#foodforlife</td>\n",
       "      <td>18</td>\n",
       "    </tr>\n",
       "    <tr>\n",
       "      <th>82</th>\n",
       "      <td>#mumbaifoodblogger</td>\n",
       "      <td>16</td>\n",
       "    </tr>\n",
       "    <tr>\n",
       "      <th>35</th>\n",
       "      <td>#delhifoodblogger</td>\n",
       "      <td>11</td>\n",
       "    </tr>\n",
       "    <tr>\n",
       "      <th>110</th>\n",
       "      <td>#spicy</td>\n",
       "      <td>11</td>\n",
       "    </tr>\n",
       "    <tr>\n",
       "      <th>66</th>\n",
       "      <td>#indianfood</td>\n",
       "      <td>11</td>\n",
       "    </tr>\n",
       "    <tr>\n",
       "      <th>77</th>\n",
       "      <td>#mumbai</td>\n",
       "      <td>10</td>\n",
       "    </tr>\n",
       "    <tr>\n",
       "      <th>139</th>\n",
       "      <td>#yummyintummy</td>\n",
       "      <td>9</td>\n",
       "    </tr>\n",
       "    <tr>\n",
       "      <th>107</th>\n",
       "      <td>#satisfyingvideos</td>\n",
       "      <td>9</td>\n",
       "    </tr>\n",
       "    <tr>\n",
       "      <th>106</th>\n",
       "      <td>#satisfying</td>\n",
       "      <td>9</td>\n",
       "    </tr>\n",
       "  </tbody>\n",
       "</table>\n",
       "</div>"
      ],
      "text/plain": [
       "                   Word  Frequency\n",
       "114         #streetfood         25\n",
       "48         #foodforlife         18\n",
       "82   #mumbaifoodblogger         16\n",
       "35    #delhifoodblogger         11\n",
       "110              #spicy         11\n",
       "66          #indianfood         11\n",
       "77              #mumbai         10\n",
       "139       #yummyintummy          9\n",
       "107   #satisfyingvideos          9\n",
       "106         #satisfying          9"
      ]
     },
     "execution_count": 20,
     "metadata": {},
     "output_type": "execute_result"
    }
   ],
   "source": [
    "#2.4\n",
    "df = df[df.Word.str.startswith('#')]\n",
    "df = df.sort_values(by = 'Frequency',ascending = False)\n",
    "df.head(10) # Dataframe having top 10 popular hashtags"
   ]
  },
  {
   "cell_type": "code",
   "execution_count": 21,
   "metadata": {},
   "outputs": [
    {
     "data": {
      "image/png": "[encoded data removed]",
      "text/plain": [
       "<Figure size 432x288 with 1 Axes>"
      ]
     },
     "metadata": {},
     "output_type": "display_data"
    }
   ],
   "source": [
    "#2.5\n",
    "hashtags = df.iloc[:5,0].values\n",
    "freq = df.iloc[:5,1].values\n",
    "plt.pie(freq,labels=hashtags,colors=['red','yellow','blue','pink','green'],autopct='%.2f%%')\n",
    "plt.title(\"Popular Hashtags\")\n",
    "plt.show()"
   ]
  },
  {
   "cell_type": "markdown",
   "metadata": {},
   "source": [
    "# Q3."
   ]
  },
  {
   "cell_type": "code",
   "execution_count": 22,
   "metadata": {},
   "outputs": [],
   "source": [
    "#3.1\n",
    "from selenium.common.exceptions import NoSuchElementException\n",
    "def likes():\n",
    "    like = []\n",
    "    for h in handles:\n",
    "        h1 = []\n",
    "        search(h)\n",
    "        driver.find_element_by_xpath('//div[contains(@class,\"v1Nh3 \")]').click()\n",
    "        for i in range(10):\n",
    "            try :\n",
    "                a = driver.find_element_by_xpath('//a[@class=\"zV_Nj\"]/span').text\n",
    "                h1.append(a)\n",
    "            except NoSuchElementException:\n",
    "                pass\n",
    "            driver.find_element_by_link_text('Next').click()\n",
    "            time.sleep(3)\n",
    "        driver.find_element_by_xpath('//*[name()=\"svg\"][@aria-label=\"Close\"]').click()\n",
    "        like.append(h1)\n",
    "    return like"
   ]
  },
  {
   "cell_type": "code",
   "execution_count": 23,
   "metadata": {},
   "outputs": [
    {
     "data": {
      "text/plain": [
       "[['3,337', '1,308', '3,220', '3,970', '3,996', '2,870', '4,397', '5,021'],\n",
       " [],\n",
       " ['551', '572', '341', '659', '298', '908', '441', '511', '281', '308'],\n",
       " ['24,723', '34,106', '36,244', '29,789'],\n",
       " ['60,622', '12,757', '7,106']]"
      ]
     },
     "execution_count": 23,
     "metadata": {},
     "output_type": "execute_result"
    }
   ],
   "source": [
    "#3.1 For this question we look at the first 10 posts of each handle if the likes are not visible we ignore the post and move \n",
    "# to the next one.\n",
    "from copy import deepcopy\n",
    "b1 = likes()\n",
    "a1 = deepcopy(b1)\n",
    "a1"
   ]
  },
  {
   "cell_type": "code",
   "execution_count": 24,
   "metadata": {},
   "outputs": [],
   "source": [
    "def converter(arr):\n",
    "    n = len(arr)\n",
    "    likes = 0\n",
    "    for i in range(n):\n",
    "        m = arr[i].replace(',','')\n",
    "        likes += int(m)\n",
    "    if n==0:    # We took average number of likes = 0 if they were not visible in any of the first 10 posts.\n",
    "        return 0\n",
    "    return likes/n\n",
    "#3.2\n",
    "def avg():\n",
    "    for i in range(5):\n",
    "        a1[i] = converter(a1[i])\n",
    "    return a1"
   ]
  },
  {
   "cell_type": "code",
   "execution_count": 94,
   "metadata": {},
   "outputs": [
    {
     "data": {
      "text/plain": [
       "[3505.5, 0, 485.6, 31204.25, 26505.333333333332]"
      ]
     },
     "execution_count": 94,
     "metadata": {},
     "output_type": "execute_result"
    }
   ],
   "source": [
    "# 3.2\n",
    "mean = avg()\n",
    "mean"
   ]
  },
  {
   "cell_type": "code",
   "execution_count": 95,
   "metadata": {},
   "outputs": [
    {
     "data": {
      "text/plain": [
       "array([0.021375  , 0.        , 0.00160264, 0.02080283, 0.00240958])"
      ]
     },
     "execution_count": 95,
     "metadata": {},
     "output_type": "execute_result"
    }
   ],
   "source": [
    "#3.3\n",
    "followers = np.array(followers)\n",
    "mean_likes = np.array(mean)\n",
    "ratio = mean_likes/followers\n",
    "ratio #We have divided the average likes from followers ratio as mentioned in the question."
   ]
  },
  {
   "cell_type": "code",
   "execution_count": 51,
   "metadata": {},
   "outputs": [
    {
     "data": {
      "image/png": "[encoded data removed]",
      "text/plain": [
       "<Figure size 432x288 with 1 Axes>"
      ]
     },
     "metadata": {
      "needs_background": "light"
     },
     "output_type": "display_data"
    }
   ],
   "source": [
    "plt.bar(handles,ratio,color='yellow',edgecolor='b')\n",
    "plt.title('Handle vs Average Followers to Like ratio')\n",
    "plt.xlabel('Insta Handle')\n",
    "plt.ylabel('Average followers to Likes ratio')\n",
    "plt.xticks(rotation=45)\n",
    "plt.show()"
   ]
  },
  {
   "cell_type": "markdown",
   "metadata": {},
   "source": [
    "# Thank you , any advice and suggestions will be appreciated :) ."
   ]
  }
 ],
 "metadata": {
  "kernelspec": {
   "display_name": "Python 3 (ipykernel)",
   "language": "python",
   "name": "python3"
  },
  "language_info": {
   "codemirror_mode": {
    "name": "ipython",
    "version": 3
   },
   "file_extension": ".py",
   "mimetype": "text/x-python",
   "name": "python",
   "nbconvert_exporter": "python",
   "pygments_lexer": "ipython3",
   "version": "3.7.10"
  }
 },
 "nbformat": 4,
 "nbformat_minor": 4
}
