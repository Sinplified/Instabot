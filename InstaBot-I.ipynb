{
 "cells": [
  {
   "cell_type": "code",
   "execution_count": 1,
   "metadata": {},
   "outputs": [],
   "source": [
    "from selenium import webdriver\n",
    "import time"
   ]
  },
  {
   "cell_type": "code",
   "execution_count": 271,
   "metadata": {},
   "outputs": [],
   "source": [
    "# TO open the automated Chrome Browser\n",
    "driver = webdriver.Chrome(executable_path='chromedriver')"
   ]
  },
  {
   "cell_type": "markdown",
   "metadata": {},
   "source": [
    "# For all of the functions below please maximize the automated browser."
   ]
  },
  {
   "cell_type": "code",
   "execution_count": 272,
   "metadata": {},
   "outputs": [],
   "source": [
    "driver.implicitly_wait(10)\n",
    "# 1.\n",
    "def Login(sample_username,sample_password):\n",
    "    driver.get('https://www.instagram.com/')\n",
    "    a = driver.find_elements_by_tag_name('input')\n",
    "    a[0].send_keys(sample_username)\n",
    "    a[1].send_keys(sample_password)\n",
    "    driver.find_elements_by_tag_name('button')[1].click()\n",
    "    driver.find_element_by_class_name('cmbtv').click() #To skip saving Login info\n",
    "    driver.find_element_by_class_name('HoLwm').click() #To remove the \"Turn On Notifications\" pop up."
   ]
  },
  {
   "cell_type": "code",
   "execution_count": 274,
   "metadata": {},
   "outputs": [],
   "source": [
    "#1. Login(sample_username,sample_password)"
   ]
  },
  {
   "cell_type": "markdown",
   "metadata": {},
   "source": [
    "# After this I have assumed that we are logged in on Instagram"
   ]
  },
  {
   "cell_type": "code",
   "execution_count": 275,
   "metadata": {},
   "outputs": [],
   "source": [
    "#2.\n",
    "def food():\n",
    "    driver.find_element_by_xpath('//input[contains(@class,\"x3qfX\")]').send_keys('food')\n",
    "    a = driver.find_elements_by_xpath('//a[@class=\"-qQT3\"]/div/div[2]/div[1]')\n",
    "    for i in a:\n",
    "        name = i.text\n",
    "        if not name.startswith('#'):\n",
    "            print(name)\n",
    "    driver.find_element_by_xpath('//input[contains(@class,\"x3qfX\")]').clear()"
   ]
  },
  {
   "cell_type": "code",
   "execution_count": 289,
   "metadata": {},
   "outputs": [],
   "source": [
    "#2. food()"
   ]
  },
  {
   "cell_type": "code",
   "execution_count": 284,
   "metadata": {},
   "outputs": [],
   "source": [
    "#3.\n",
    "def soDelhi():\n",
    "    driver.find_element_by_xpath('//input[contains(@class,\"x3qfX\")]').send_keys('sodelhi')\n",
    "    time.sleep(5)\n",
    "    driver.find_element_by_class_name('-qQT3').click()"
   ]
  },
  {
   "cell_type": "code",
   "execution_count": 290,
   "metadata": {},
   "outputs": [],
   "source": [
    "#3. soDelhi()"
   ]
  },
  {
   "cell_type": "code",
   "execution_count": 292,
   "metadata": {},
   "outputs": [],
   "source": [
    "# 4.\n",
    "def follow():#To follow the insta handle of \"So Delhi\".\n",
    "    driver.get('https://www.instagram.com/')\n",
    "    soDelhi()\n",
    "    a = driver.find_elements_by_class_name('_1OSdk')[0]\n",
    "    if a.text !='Follow':\n",
    "        print('Already following')\n",
    "    else:\n",
    "        a.click()\n",
    "def unfollow():#To unfollow the insta handle of \"So delhi\"\n",
    "    driver.get('https://www.instagram.com/')\n",
    "    soDelhi()\n",
    "    a = driver.find_elements_by_class_name('_1OSdk')[0]\n",
    "    if a.text =='Follow':\n",
    "        print(\"Already Unfollowed\")\n",
    "    else:\n",
    "        a.click()\n",
    "        driver.find_element_by_xpath('//button[contains(@class,\"-Cab_   \")]').click()"
   ]
  },
  {
   "cell_type": "code",
   "execution_count": 296,
   "metadata": {},
   "outputs": [],
   "source": [
    "#4.1 follow()\n",
    "#4.2 unfollow()"
   ]
  },
  {
   "cell_type": "code",
   "execution_count": 300,
   "metadata": {},
   "outputs": [],
   "source": [
    "# 5.\n",
    "def like_unlike(arg):# Pass \"Like\" to like the posts and \"Unlike\" to unlike the posts.\n",
    "    driver.get('https://www.instagram.com/')\n",
    "    driver.find_element_by_xpath('//input[contains(@class,\"x3qfX\")]').send_keys('dilsefoodie')\n",
    "    driver.find_element_by_class_name('-qQT3').click()\n",
    "    time.sleep(3)\n",
    "    driver.find_element_by_class_name('eLAPa').click()\n",
    "    for i in range(30):\n",
    "        a = driver.find_element_by_xpath('//span[@class=\"fr66n\"]//*[name()=\"svg\"]')\n",
    "        if a.get_attribute('aria-label') == arg:\n",
    "            a.click()\n",
    "        else:\n",
    "            print('Post at position',i+1,'Already',arg+'d')\n",
    "        driver.find_element_by_link_text('Next').click()\n",
    "    driver.find_element_by_xpath('//*[name()=\"svg\"][@aria-label=\"Close\"]').click()"
   ]
  },
  {
   "cell_type": "code",
   "execution_count": 303,
   "metadata": {},
   "outputs": [],
   "source": [
    "#5. like_unlike('Unlike')\n",
    "# Pass \"Like\" to like the posts and \"Unlike\" to unlike the posts."
   ]
  },
  {
   "cell_type": "code",
   "execution_count": 309,
   "metadata": {},
   "outputs": [],
   "source": [
    "#7.\n",
    "def cn_story():\n",
    "    driver.get('https://www.instagram.com/')\n",
    "    driver.find_element_by_xpath('//input[contains(@class,\"x3qfX\")]').send_keys('coding.ninjas')\n",
    "    driver.find_element_by_class_name('-qQT3').click()\n",
    "    time.sleep(5)\n",
    "    if driver.find_element_by_class_name('RR-M- ').get_attribute('aria-disabled')=='true':\n",
    "        print(\"No Story is uploaded by cn\")\n",
    "    else:\n",
    "        a = driver.find_element_by_tag_name('canvas')\n",
    "        if a.get_attribute('height')=='168':\n",
    "            b = driver.find_element_by_tag_name('img')\n",
    "            b.click()\n",
    "        else:\n",
    "            print('Story already seen')"
   ]
  },
  {
   "cell_type": "code",
   "execution_count": 310,
   "metadata": {},
   "outputs": [],
   "source": [
    "#7. cn_story()"
   ]
  },
  {
   "cell_type": "code",
   "execution_count": 314,
   "metadata": {},
   "outputs": [],
   "source": [
    "#6.1.\n",
    "def followers(handle):# pass 'foodtalkindia' or 'sodelhi'\n",
    "    driver.get('https://www.instagram.com')\n",
    "    driver.find_element_by_xpath('//input[contains(@class,\"x3qfX\")]').send_keys(handle)\n",
    "    driver.find_element_by_class_name('-qQT3').click()\n",
    "    driver.find_element_by_partial_link_text(\"followers\").click()\n",
    "    names=[]\n",
    "    while len(names)<500 :\n",
    "        time.sleep(3)\n",
    "        names = driver.find_elements_by_xpath('//div[@class=\"PZuss\"]/li')\n",
    "        names[-1].click()\n",
    "    follower = []\n",
    "    for i in range(500):\n",
    "        follower.append(names[i].text.split('\\n')[0])\n",
    "    driver.find_element_by_xpath('//*[name()=\"svg\"][@aria-label=\"Close\"]').click()\n",
    "    return follower"
   ]
  },
  {
   "cell_type": "code",
   "execution_count": 317,
   "metadata": {},
   "outputs": [],
   "source": [
    "#6.1 followers() pass 'foodtalkindia' or 'sodelhi'"
   ]
  },
  {
   "cell_type": "code",
   "execution_count": 318,
   "metadata": {},
   "outputs": [],
   "source": [
    "def my_fol(arg):\n",
    "    driver.find_element_by_partial_link_text(arg).click()\n",
    "    names,ilen,flen=[],0,1\n",
    "    while ilen<flen:\n",
    "        names = driver.find_elements_by_xpath('//div[@class=\"PZuss\"]/li')\n",
    "        names[-1].click()\n",
    "        time.sleep(5)\n",
    "        ilen = flen\n",
    "        flen = len(names)\n",
    "    follow = set()\n",
    "    for a in names:\n",
    "        follow.add(a.text.split('\\n')[0])\n",
    "    driver.find_element_by_xpath('//*[name()=\"svg\"][@aria-label=\"Close\"]').click()\n",
    "    return follow\n",
    "def food_my_fol(sample_username): #6.2 pass your username\n",
    "    driver.get('https://www.instagram.com')\n",
    "    driver.find_element_by_xpath('//input[contains(@class,\"x3qfX\")]').send_keys(sample_username)\n",
    "    driver.find_element_by_class_name('-qQT3').click()\n",
    "    fol = my_fol('following').difference(my_fol('followers'))\n",
    "    foodtalk = set(followers('foodtalkindia'))\n",
    "    for i in fol.intersection(foodtalk):\n",
    "        print(i)"
   ]
  },
  {
   "cell_type": "code",
   "execution_count": 321,
   "metadata": {},
   "outputs": [],
   "source": [
    "#6.2 food_my_fol(user_name) pass your insta handle .\n",
    "# For this question what we have done is we first determine the user_names of IDs which don't follow us back , then we fetch the \n",
    "# first 500 followers of \"foodtalkindia\" ,using sets then we find the intersection of usernames that dont follow us back and are\n",
    "# the followers of \"foodtalkindia\"."
   ]
  },
  {
   "cell_type": "markdown",
   "metadata": {},
   "source": [
    "# Thank you , any advice and suggestions will be appreciated :) ."
   ]
  }
 ],
 "metadata": {
  "kernelspec": {
   "display_name": "Python 3 (ipykernel)",
   "language": "python",
   "name": "python3"
  },
  "language_info": {
   "codemirror_mode": {
    "name": "ipython",
    "version": 3
   },
   "file_extension": ".py",
   "mimetype": "text/x-python",
   "name": "python",
   "nbconvert_exporter": "python",
   "pygments_lexer": "ipython3",
   "version": "3.7.10"
  }
 },
 "nbformat": 4,
 "nbformat_minor": 4
}
